{
  "nbformat": 4,
  "nbformat_minor": 0,
  "metadata": {
    "colab": {
      "provenance": [],
      "include_colab_link": true
    },
    "kernelspec": {
      "name": "python3",
      "display_name": "Python 3"
    },
    "language_info": {
      "name": "python"
    }
  },
  "cells": [
    {
      "cell_type": "markdown",
      "metadata": {
        "id": "view-in-github",
        "colab_type": "text"
      },
      "source": [
        "<a href=\"https://colab.research.google.com/github/manicvlada/deep_learning/blob/main/ML4BI_E4.ipynb\" target=\"_parent\"><img src=\"https://colab.research.google.com/assets/colab-badge.svg\" alt=\"Open In Colab\"/></a>"
      ]
    },
    {
      "cell_type": "markdown",
      "source": [
        "# Machine Learning for BI 2\n",
        "\n",
        "## (MORE) Deep Learning exercises for week 3"
      ],
      "metadata": {
        "id": "PjV1PDq9DMP9"
      }
    },
    {
      "cell_type": "markdown",
      "source": [
        "Load the newswire dataset from the exercises and prepare it to a neural network with two hidden layers.\n",
        "\n",
        "Write a function that allows you to control whether a dropout is applied to each layer.\n",
        "\n",
        "Finally, use the function to compare the validation lose curves for three different training runs: (1) dropout only in the first layer, (2) dropout only in the second layer, (3) dropout in the both layers, and (4) no dropout. Let the number of neurons in each run be the same, but think about what a reasonable number of neurons would be and why."
      ],
      "metadata": {
        "id": "0Q-zHkwODPax"
      }
    },
    {
      "cell_type": "markdown",
      "source": [
        "**Load and prepare the newswire dataset**"
      ],
      "metadata": {
        "id": "fnv0D0D0ECUz"
      }
    },
    {
      "cell_type": "code",
      "execution_count": null,
      "metadata": {
        "id": "3-61L3e9C6Mh"
      },
      "outputs": [],
      "source": [
        "#YOUR CODE HERE"
      ]
    },
    {
      "cell_type": "markdown",
      "source": [
        "**Create the function**"
      ],
      "metadata": {
        "id": "IlYWMvXaEGmm"
      }
    },
    {
      "cell_type": "code",
      "source": [
        "#YOUR CODE HERE\n"
      ],
      "metadata": {
        "id": "pPfhXesoMrjK"
      },
      "execution_count": null,
      "outputs": []
    },
    {
      "cell_type": "markdown",
      "source": [
        "**Plot**"
      ],
      "metadata": {
        "id": "NYQ8pKJAT_-Z"
      }
    },
    {
      "cell_type": "code",
      "source": [
        "#YOUR CODE HERE\n"
      ],
      "metadata": {
        "id": "T1PjTfhcM9vi"
      },
      "execution_count": null,
      "outputs": []
    }
  ]
}