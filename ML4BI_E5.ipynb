{
  "nbformat": 4,
  "nbformat_minor": 0,
  "metadata": {
    "colab": {
      "provenance": [],
      "gpuType": "T4",
      "include_colab_link": true
    },
    "kernelspec": {
      "name": "python3",
      "display_name": "Python 3"
    },
    "language_info": {
      "name": "python"
    },
    "accelerator": "GPU"
  },
  "cells": [
    {
      "cell_type": "markdown",
      "metadata": {
        "id": "view-in-github",
        "colab_type": "text"
      },
      "source": [
        "<a href=\"https://colab.research.google.com/github/manicvlada/deep_learning/blob/main/ML4BI_E5.ipynb\" target=\"_parent\"><img src=\"https://colab.research.google.com/assets/colab-badge.svg\" alt=\"Open In Colab\"/></a>"
      ]
    },
    {
      "cell_type": "markdown",
      "source": [
        "# Machine Learning for BI 2\n",
        "\n",
        "## Deep Learning exercises for week 5\n",
        "\n",
        "The goal of this exercise is for students to gain hands-on experience in applying Convolutional Neural Networks (CNNs) to a novel dataset, understand the process of data preparation, model building, training, and evaluation. This will involve experimenting with different model architectures, hyperparameters, and techniques to improve model performance."
      ],
      "metadata": {
        "id": "_zinulpqHHyl"
      }
    },
    {
      "cell_type": "markdown",
      "source": [
        "**About the CIFAR-10 dataset**\n",
        "\n",
        "The CIFAR-10 dataset is a widely-used dataset for benchmarking machine learning algorithms, especially in the field of image recognition. It consists of 60,000 32x32 color images in 10 different classes, with 6,000 images per class. The dataset is divided into 50,000 training images and 10,000 test images. The classes represent airplanes, cars, birds, cats, deer, dogs, frogs, horses, ships, and trucks. Each image is labeled with one of these 10 classes, making it a standard dataset for evaluating algorithms for image classification tasks.\n",
        "\n",
        "The CIFAR-10 dataset was created by Alex Krizhevsky, Vinod Nair, and Geoffrey Hinton and is a subset of the 80 million tiny images dataset. Due to its moderate size and complexity, CIFAR-10 serves as an excellent benchmark for algorithms and techniques in computer vision, particularly for methodologies that are aimed at performing well on small to medium-sized datasets in image recognition tasks."
      ],
      "metadata": {
        "id": "fHFM1Y-uImxl"
      }
    },
    {
      "cell_type": "markdown",
      "source": [
        "**Load and prepare the data**"
      ],
      "metadata": {
        "id": "_JmVDbiVHlHz"
      }
    },
    {
      "cell_type": "code",
      "execution_count": null,
      "metadata": {
        "id": "NuJGtbWHG5s3"
      },
      "outputs": [],
      "source": [
        "import tensorflow as tf\n",
        "from tensorflow import keras\n",
        "from tensorflow.keras.utils import to_categorical\n",
        "from tensorflow.keras import datasets, layers, models\n",
        "import matplotlib.pyplot as plt\n",
        "\n",
        "# Load the CIFAR-10 dataset\n",
        "(train_images, train_labels), (test_images, test_labels) = datasets.cifar10.load_data()\n",
        "\n",
        "# Class names in the CIFAR-10 dataset\n",
        "class_names = ['airplane', 'automobile', 'bird', 'cat', 'deer',\n",
        "               'dog', 'frog', 'horse', 'ship', 'truck']"
      ]
    },
    {
      "cell_type": "markdown",
      "source": [
        "**Plot images**\n",
        "\n",
        "Plot some images from the dataset."
      ],
      "metadata": {
        "id": "454tLLAEd6d3"
      }
    },
    {
      "cell_type": "code",
      "source": [
        "# YOUR CODE HERE"
      ],
      "metadata": {
        "id": "qVWg4cV3pH3B"
      },
      "execution_count": null,
      "outputs": []
    },
    {
      "cell_type": "markdown",
      "source": [
        "**Model building**\n",
        "\n",
        "Build a convnet without adding data augmentation."
      ],
      "metadata": {
        "id": "-Xxypz1fHuHn"
      }
    },
    {
      "cell_type": "code",
      "source": [
        "# YOUR CODE HERE"
      ],
      "metadata": {
        "id": "F842KibeHw7d"
      },
      "execution_count": null,
      "outputs": []
    },
    {
      "cell_type": "markdown",
      "source": [
        "**Compile and train the model**"
      ],
      "metadata": {
        "id": "YwCLbp6VIDhz"
      }
    },
    {
      "cell_type": "code",
      "source": [
        "# YOUR CODE HERE"
      ],
      "metadata": {
        "id": "6TAhJyTaIH29"
      },
      "execution_count": null,
      "outputs": []
    },
    {
      "cell_type": "markdown",
      "source": [
        "**Plotting Training and Validation Loss and Accuracy**"
      ],
      "metadata": {
        "id": "ZAxbRR0dIUNk"
      }
    },
    {
      "cell_type": "code",
      "source": [
        "# YOUR CODE HERE"
      ],
      "metadata": {
        "id": "3kjmA3y2Ma0r"
      },
      "execution_count": null,
      "outputs": []
    },
    {
      "cell_type": "markdown",
      "source": [
        "**Test data evaluation**"
      ],
      "metadata": {
        "id": "dgH9frSGINrV"
      }
    },
    {
      "cell_type": "code",
      "source": [
        "# YOUR CODE HERE"
      ],
      "metadata": {
        "id": "gaCGk0QtIM98"
      },
      "execution_count": null,
      "outputs": []
    },
    {
      "cell_type": "markdown",
      "source": [
        "## Data augmentation addition\n",
        "\n",
        "Now, add a data augmentation step and compare model performance."
      ],
      "metadata": {
        "id": "z2S3a8cBNjIs"
      }
    },
    {
      "cell_type": "markdown",
      "source": [
        "**Model building**"
      ],
      "metadata": {
        "id": "XVDLB10hN6O_"
      }
    },
    {
      "cell_type": "code",
      "source": [
        "# YOUR CODE HERE"
      ],
      "metadata": {
        "id": "JFquM93qNziR"
      },
      "execution_count": null,
      "outputs": []
    },
    {
      "cell_type": "markdown",
      "source": [
        "**Compile and train the model**"
      ],
      "metadata": {
        "id": "_eryLdqjOKZh"
      }
    },
    {
      "cell_type": "code",
      "source": [
        "# YOUR CODE HERE"
      ],
      "metadata": {
        "id": "J2NTPCulOPva"
      },
      "execution_count": null,
      "outputs": []
    },
    {
      "cell_type": "markdown",
      "source": [
        "**Plotting Training and Validation Loss and Accuracy**"
      ],
      "metadata": {
        "id": "5WaJvpEMObkn"
      }
    },
    {
      "cell_type": "code",
      "source": [
        "# YOUR CODE HERE"
      ],
      "metadata": {
        "id": "b-GXrsvKOWNb"
      },
      "execution_count": null,
      "outputs": []
    },
    {
      "cell_type": "markdown",
      "source": [
        "## Experiment with more data augmentation\n",
        "Try experimenting with adding more data augmentation techniques"
      ],
      "metadata": {
        "id": "zR5rWCudhepV"
      }
    },
    {
      "cell_type": "code",
      "source": [
        "# YOUR CODE HERE"
      ],
      "metadata": {
        "id": "WaPuoBv_hjqn"
      },
      "execution_count": null,
      "outputs": []
    }
  ]
}