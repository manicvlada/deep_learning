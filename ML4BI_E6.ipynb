{
  "nbformat": 4,
  "nbformat_minor": 0,
  "metadata": {
    "colab": {
      "provenance": [],
      "gpuType": "T4",
      "include_colab_link": true
    },
    "kernelspec": {
      "name": "python3",
      "display_name": "Python 3"
    },
    "language_info": {
      "name": "python"
    },
    "accelerator": "GPU"
  },
  "cells": [
    {
      "cell_type": "markdown",
      "metadata": {
        "id": "view-in-github",
        "colab_type": "text"
      },
      "source": [
        "<a href=\"https://colab.research.google.com/github/manicvlada/deep_learning/blob/main/ML4BI_E6.ipynb\" target=\"_parent\"><img src=\"https://colab.research.google.com/assets/colab-badge.svg\" alt=\"Open In Colab\"/></a>"
      ]
    },
    {
      "cell_type": "markdown",
      "source": [
        "# Machine Learning for BI 2\n",
        "\n",
        "## Deep Learning exercises for week 5\n",
        "\n",
        "In this exercise, you'll expand on last weeks exercise by adding pre-trained models to the mix. In particular, you'll work with ResNet50, a powerful pre-trained model."
      ],
      "metadata": {
        "id": "-CbXXr1w9P_h"
      }
    },
    {
      "cell_type": "markdown",
      "source": [
        "Here is the task: Try a ResNet50 with data augmentation on the cifar10 dataset.\n",
        "\n",
        "Two tips:\n",
        "\n",
        "\n",
        "\n",
        "1.   Remember to turn on the GPU. Don't let it stand idle. Whenever you need to take a break, remember to switch it off (\"disconnect and delete runtime\")\n",
        "2.   When preprocessing the model, do this to avoid errors\n",
        "\n",
        "```\n",
        "# Apply the preprocess_input function\n",
        "x = Lambda(preprocess_input)(x)\n",
        "```\n",
        "\n",
        "This allows arbitrary expressions to be inserted into Keras models.\n",
        "\n",
        "\n",
        "\n"
      ],
      "metadata": {
        "id": "esqmzNXCjbP4"
      }
    },
    {
      "cell_type": "code",
      "source": [
        "## Your code here"
      ],
      "metadata": {
        "id": "p9nSfq8UoZXe"
      },
      "execution_count": null,
      "outputs": []
    }
  ]
}